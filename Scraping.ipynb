{
 "cells": [
  {
   "cell_type": "code",
   "execution_count": 1,
   "id": "ac9359a5-424f-441b-95af-b4e22784bea9",
   "metadata": {},
   "outputs": [],
   "source": [
    "from bs4 import BeautifulSoup\n",
    "import pandas as pd\n",
    "import requests\n",
    "import re"
   ]
  },
  {
   "cell_type": "code",
   "execution_count": 3,
   "id": "e582e141-5ed2-4c16-8a9f-2826d973f8f7",
   "metadata": {},
   "outputs": [],
   "source": [
    "url = 'https://www.amazon.com.au/gp/bestsellers/software/ref=zg_bs_nav_software_0'"
   ]
  },
  {
   "cell_type": "code",
   "execution_count": 67,
   "id": "ef9d39e0-d557-444d-aba3-9e6b9d5ca09a",
   "metadata": {},
   "outputs": [
    {
     "name": "stdout",
     "output_type": "stream",
     "text": [
      "Requirement already satisfied: pandas in c:\\users\\dell\\appdata\\local\\programs\\python\\python310\\lib\\site-packages (2.2.2)\n",
      "Requirement already satisfied: python-dateutil>=2.8.2 in c:\\users\\dell\\appdata\\local\\programs\\python\\python310\\lib\\site-packages (from pandas) (2.9.0.post0)\n",
      "Requirement already satisfied: tzdata>=2022.7 in c:\\users\\dell\\appdata\\local\\programs\\python\\python310\\lib\\site-packages (from pandas) (2024.1)\n",
      "Requirement already satisfied: pytz>=2020.1 in c:\\users\\dell\\appdata\\local\\programs\\python\\python310\\lib\\site-packages (from pandas) (2024.1)\n",
      "Requirement already satisfied: numpy>=1.22.4 in c:\\users\\dell\\appdata\\local\\programs\\python\\python310\\lib\\site-packages (from pandas) (2.0.0)\n",
      "Requirement already satisfied: six>=1.5 in c:\\users\\dell\\appdata\\local\\programs\\python\\python310\\lib\\site-packages (from python-dateutil>=2.8.2->pandas) (1.16.0)\n"
     ]
    },
    {
     "name": "stderr",
     "output_type": "stream",
     "text": [
      "\n",
      "[notice] A new release of pip available: 22.2.2 -> 24.1\n",
      "[notice] To update, run: python.exe -m pip install --upgrade pip\n"
     ]
    }
   ],
   "source": [
    "!pip install pandas"
   ]
  },
  {
   "cell_type": "code",
   "execution_count": 5,
   "id": "77d0cc02-a2c2-4060-9297-a97d0f5b58c3",
   "metadata": {},
   "outputs": [],
   "source": [
    "page = requests.get(url)\n",
    "soup = BeautifulSoup(page.text, 'html')\n"
   ]
  },
  {
   "cell_type": "code",
   "execution_count": 73,
   "id": "ead33a0a-d025-40dd-b928-5d4e7b8fa076",
   "metadata": {},
   "outputs": [],
   "source": [
    "best_sellers = soup.find('div', class_ = 'p13n-gridRow')\n",
    "product_items = best_sellers.find_all('div', id='gridItemRoot')\n",
    "a = 0\n",
    "names = []\n",
    "prices = []\n",
    "image_urls = []\n",
    "for item in product_items:\n",
    "    product_name = item.find('div', class_ = re.compile(\"^_cDEzb_p13n-sc-css-line-clamp\"))\n",
    "    names.append(product_name.text)\n",
    "    product_price = item.find('span', class_ = re.compile(\"^p13n-sc-price\"))\n",
    "    image_source = item.find('img', class_ = \"p13n-product-image\")\n",
    "    image_urls.append(image_source.get(\"src\"))\n",
    "    if product_price:\n",
    "        prices.append(product_price.text)\n",
    "    else:\n",
    "        prices.append('0.00')\n",
    "    \n",
    "dictionary = {\"Product name\": names, \"Product price\": prices, \"Image URLs\": image_urls}\n",
    "df = pd.DataFrame(dictionary)\n",
    "df.to_csv(r'C:\\Users\\DELL\\Documents\\Scraping\\Amazon_products.csv', index = False)\n",
    "    \n",
    "    \n",
    "    "
   ]
  },
  {
   "cell_type": "code",
   "execution_count": null,
   "id": "33dde497-882f-40c1-8ba1-40fdf9f1b291",
   "metadata": {},
   "outputs": [],
   "source": []
  },
  {
   "cell_type": "code",
   "execution_count": null,
   "id": "ae726ff7-d57f-47a7-b053-5d3542c957df",
   "metadata": {},
   "outputs": [],
   "source": []
  }
 ],
 "metadata": {
  "kernelspec": {
   "display_name": "Python 3 (ipykernel)",
   "language": "python",
   "name": "python3"
  },
  "language_info": {
   "codemirror_mode": {
    "name": "ipython",
    "version": 3
   },
   "file_extension": ".py",
   "mimetype": "text/x-python",
   "name": "python",
   "nbconvert_exporter": "python",
   "pygments_lexer": "ipython3",
   "version": "3.10.7"
  }
 },
 "nbformat": 4,
 "nbformat_minor": 5
}
